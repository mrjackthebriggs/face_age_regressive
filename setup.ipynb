{
 "cells": [
  {
   "cell_type": "markdown",
   "metadata": {},
   "source": [
    "# Check Python Runtime\n",
    "Make sure to check python runtime before doing anything, to show what environment this is running on"
   ]
  },
  {
   "cell_type": "code",
   "execution_count": 1,
   "metadata": {},
   "outputs": [
    {
     "name": "stdout",
     "output_type": "stream",
     "text": [
      "3.11.6 (tags/v3.11.6:8b6ee5b, Oct  2 2023, 14:57:12) [MSC v.1935 64 bit (AMD64)]\n"
     ]
    }
   ],
   "source": [
    "import sys\n",
    "print(sys.version)"
   ]
  },
  {
   "cell_type": "markdown",
   "metadata": {},
   "source": [
    "Should be running Python 3.11.6.\n",
    "\n",
    "# Check Libraries\n",
    "Make sure all needed libraries are installed and importable\n",
    "\n"
   ]
  },
  {
   "cell_type": "code",
   "execution_count": 2,
   "metadata": {},
   "outputs": [
    {
     "name": "stdout",
     "output_type": "stream",
     "text": [
      "MatPlotLib Ver: =3.8.0\n",
      "Numpy Ver: =1.26.0\n",
      "Tensorflow Ver: =2.14.0\n",
      "PIL Ver: =10.0.1\n",
      "Open CV Ver: =4.8.1\n",
      "Dlib Ver=19.24.2\n",
      "SciPy Ver=1.11.3\n"
     ]
    }
   ],
   "source": [
    "import matplotlib\n",
    "import numpy as np\n",
    "import tensorflow as tf\n",
    "import PIL\n",
    "import cv2\n",
    "import scipy\n",
    "import dlib\n",
    "\n",
    "print(\"MatPlotLib Ver: \" + \"=\" + matplotlib.__version__)\n",
    "print(\"Numpy Ver: \" + \"=\" + np.__version__)\n",
    "print(\"Tensorflow Ver: \" + \"=\" + tf.__version__)\n",
    "print(\"PIL Ver: \" + \"=\" + PIL.__version__)\n",
    "print(\"Open CV Ver: \" + \"=\" + cv2.__version__)\n",
    "print(\"Dlib Ver\" + \"=\" + dlib.__version__)\n",
    "print(\"SciPy Ver\" + \"=\" + scipy.__version__)\n"
   ]
  }
 ],
 "metadata": {
  "kernelspec": {
   "display_name": ".venv",
   "language": "python",
   "name": "python3"
  },
  "language_info": {
   "codemirror_mode": {
    "name": "ipython",
    "version": 3
   },
   "file_extension": ".py",
   "mimetype": "text/x-python",
   "name": "python",
   "nbconvert_exporter": "python",
   "pygments_lexer": "ipython3",
   "version": "3.11.6"
  }
 },
 "nbformat": 4,
 "nbformat_minor": 2
}
